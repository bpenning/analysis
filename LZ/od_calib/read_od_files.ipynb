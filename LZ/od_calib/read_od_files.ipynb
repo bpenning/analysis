{
 "cells": [
  {
   "cell_type": "code",
   "execution_count": 29,
   "metadata": {},
   "outputs": [
    {
     "name": "stdout",
     "output_type": "stream",
     "text": [
      "ready\n"
     ]
    }
   ],
   "source": [
    "#import rootpy.plotting.root2matplotlib as rplt\n",
    "import matplotlib.pyplot as plt\n",
    "#import matplotlib as mpl\n",
    "#import pandas as pd\n",
    "#import numpy as np\n",
    "import glob\n",
    "import os\n",
    "import copy\n",
    "import ROOT as r\n",
    "print('ready')"
   ]
  },
  {
   "cell_type": "code",
   "execution_count": 51,
   "metadata": {},
   "outputs": [
    {
     "name": "stdout",
     "output_type": "stream",
     "text": [
      "TFile**\t\tfilelists/AmLi_1336.root\t\n",
      " TFile*\t\tfilelists/AmLi_1336.root\t\n",
      "  KEY: TH2F\th2_all_s1_s2;1\t\n",
      "  KEY: TH1F\th1_all_s1_s2;1\t\n",
      "  KEY: TH1F\th1_rate;1\t\n",
      "  KEY: TH1F\th1_tpcLG_nPulses;1\th1_tpcLG_nPulses\n",
      "  KEY: TH1F\th1_tpcLG_pulseStartTime;1\th1_tpcLG_pulseStartTime ns\n",
      "  KEY: TH1F\th1_tpcLG_pulseEndTime;1\th1_tpcLG_pulseEndTime ns\n",
      "  KEY: TH1F\th1_tpcLG_pulseLength;1\th1_tpcLG_pulseLength ms\n",
      "  KEY: TH1F\th1_tpcLG_pulseArea;1\th1_tpcLG_pulseArea\n",
      "  KEY: TH1F\th1_tpcLG_photonCount;1\th1_tpcLG_photonCount\n",
      "  KEY: TH1F\th1_tpcLG_peakTime;1\th1_tpcLG_peakTime\n",
      "  KEY: TH1F\th1_tpcLG_peakAmp;1\th1_tpcLG_peakAmp\n",
      "  KEY: TH1F\th1_tpcLG_nPulsesSat;1\th1_tpcLG_nPulsesSat\n",
      "  KEY: TH1F\th1_tpcLG_chPulseArea;1\th1_tpcLG_chPulseArea\n",
      "  KEY: TH1F\th1_tpcLG_chPulseAreaSize;1\th1_tpcLG_chPulseAreaSize\n",
      "  KEY: TH1F\th1_tpcLG_chPeakTime;1\th1_tpcLG_chPeakTime\n",
      "  KEY: TH1F\th1_tpcLG_chPeakAmp;1\th1_tpcLG_chPeakAmp\n",
      "  KEY: TH2F\th2_tpcLG_pulseArea_pulseLength;1\th2_tpcLG_pulseArea_pulseLength\n",
      "  KEY: TH2F\th2_tpcLG_pulseArea_peakAmp;1\th2_tpcLG_pulseArea_peakAmp\n",
      "  KEY: TH1F\th1_odLG_nPulses;1\th1_odLG_nPulses\n",
      "  KEY: TH1F\th1_odLG_pulseStartTime;1\th1_odLG_pulseStartTime ns\n",
      "  KEY: TH1F\th1_odLG_pulseEndTime;1\th1_odLG_pulseEndTime ns\n",
      "  KEY: TH1F\th1_odLG_pulseLength;1\th1_odLG_pulseLength ms\n",
      "  KEY: TH1F\th1_odLG_pulseArea;1\th1_odLG_pulseArea\n",
      "  KEY: TH1F\th1_odLG_photonCount;1\th1_odLG_photonCount\n",
      "  KEY: TH1F\th1_odLG_peakTime;1\th1_odLG_peakTime\n",
      "  KEY: TH1F\th1_odLG_peakAmp;1\th1_odLG_peakAmp\n",
      "  KEY: TH1F\th1_odLG_nPulsesSat;1\th1_odLG_nPulsesSat\n",
      "  KEY: TH1F\th1_odLG_chPulseArea;1\th1_odLG_chPulseArea\n",
      "  KEY: TH1F\th1_odLG_chPulseAreaSize;1\th1_odLG_chPulseAreaSize\n",
      "  KEY: TH1F\th1_odLG_chPeakTime;1\th1_odLG_chPeakTime\n",
      "  KEY: TH1F\th1_odLG_chPeakAmp;1\th1_odLG_chPeakAmp\n",
      "  KEY: TH2F\th2_odLG_pulseArea_pulseLength;1\th2_odLG_pulseArea_pulseLength\n",
      "  KEY: TH2F\th2_odLG_pulseArea_peakAmp;1\th2_odLG_pulseArea_peakAmp\n",
      "  KEY: TH1F\th1_odHG_nPulses;1\th1_odHG_nPulses\n",
      "  KEY: TH1F\th1_odHG_pulseStartTime;1\th1_odHG_pulseStartTime ns\n",
      "  KEY: TH1F\th1_odHG_pulseEndTime;1\th1_odHG_pulseEndTime ns\n",
      "  KEY: TH1F\th1_odHG_pulseLength;1\th1_odHG_pulseLength ms\n",
      "  KEY: TH1F\th1_odHG_pulseArea;1\th1_odHG_pulseArea\n",
      "  KEY: TH1F\th1_odHG_photonCount;1\th1_odHG_photonCount\n",
      "  KEY: TH1F\th1_odHG_peakTime;1\th1_odHG_peakTime\n",
      "  KEY: TH1F\th1_odHG_peakAmp;1\th1_odHG_peakAmp\n",
      "  KEY: TH1F\th1_odHG_nPulsesSat;1\th1_odHG_nPulsesSat\n",
      "  KEY: TH1F\th1_odHG_chPulseArea;1\th1_odHG_chPulseArea\n",
      "  KEY: TH1F\th1_odHG_chPulseAreaSize;1\th1_odHG_chPulseAreaSize\n",
      "  KEY: TH1F\th1_odHG_chPeakTime;1\th1_odHG_chPeakTime\n",
      "  KEY: TH1F\th1_odHG_chPeakAmp;1\th1_odHG_chPeakAmp\n",
      "  KEY: TH2F\th2_odHG_pulseArea_pulseLength;1\th2_odHG_pulseArea_pulseLength\n",
      "  KEY: TH2F\th2_odHG_pulseArea_peakAmp;1\th2_odHG_pulseArea_peakAmp\n"
     ]
    }
   ],
   "source": [
    "files=['filelists/AmLi_1336.root', 'filelists/AmLi_700.root']\n",
    "file=r.TFile(files[0])\n",
    "histograms=['h1_tpcLG_nPulses','h1_tpcLG_chPulseArea', 'h1_odLG_pulseStartTime','h2_odHG_pulseArea_pulseLength']\n",
    "file.ls()"
   ]
  },
  {
   "cell_type": "code",
   "execution_count": 52,
   "metadata": {},
   "outputs": [
    {
     "name": "stdout",
     "output_type": "stream",
     "text": [
      "test\n"
     ]
    }
   ],
   "source": [
    "def get_histo(file, histoname):\n",
    "    file=r.TFile(file)\n",
    "    histo=file.Get(histoname)\n",
    "    return copy.deepcopy(histo)\n",
    "print('test')"
   ]
  },
  {
   "cell_type": "code",
   "execution_count": 53,
   "metadata": {},
   "outputs": [
    {
     "name": "stderr",
     "output_type": "stream",
     "text": [
      "TCanvas::Constructor:0: RuntimeWarning: Deleting canvas with same name: myCanvasName\n"
     ]
    },
    {
     "data": {
      "image/png": "[encoded data removed]",
      "text/plain": [
       "<IPython.core.display.Image object>"
      ]
     },
     "metadata": {},
     "output_type": "display_data"
    }
   ],
   "source": [
    "h = r.TH1F(\"gauss\",\"Example histogram\",100,-4,4)\n",
    "h.FillRandom(\"gaus\")\n",
    "c = r.TCanvas(\"myCanvasName\",\"The Canvas Title\",300,300)\n",
    "h.Draw()\n",
    "c.Draw()    "
   ]
  },
  {
   "cell_type": "code",
   "execution_count": 54,
   "metadata": {},
   "outputs": [
    {
     "name": "stdout",
     "output_type": "stream",
     "text": [
      "filelists/AmLi_1336.root\n",
      "0\n",
      "filelists/AmLi_700.root\n",
      "1\n"
     ]
    },
    {
     "name": "stderr",
     "output_type": "stream",
     "text": [
      "TCanvas::Constructor:0: RuntimeWarning: Deleting canvas with same name: c1\n"
     ]
    },
    {
     "data": {
      "image/png": "[encoded data removed]",
      "text/plain": [
       "<IPython.core.display.Image object>"
      ]
     },
     "metadata": {},
     "output_type": "display_data"
    },
    {
     "data": {
      "image/png": "[encoded data removed]",
      "text/plain": [
       "<IPython.core.display.Image object>"
      ]
     },
     "metadata": {},
     "output_type": "display_data"
    }
   ],
   "source": [
    "c1 = r.TCanvas(\"c1\",\"c1\",400,400)\n",
    "c1.SetLogy()\n",
    "#c1.SetLogx()\n",
    "stack=r.THStack()\n",
    "for idx, f in enumerate(files):\n",
    "        print(f)\n",
    "        print idx\n",
    "        h=get_histo(f, 'h1_tpcLG_chPulseArea')\n",
    "     #   h=get_histo(f, histograms[0]) \n",
    "        h.SetTitle(hname)\n",
    "        h.GetYaxis().SetRangeUser(0.5, 1E8)\n",
    "        h.SetLineColor(idx+3)\n",
    "        stack.Add(h)\n",
    "        if idx==0: \n",
    "            #h = r.TH1F(\"gauss\",\"Example histogram\",100,-4,4)\n",
    "            #h.GetYaxis().SetRangeUser(0.5, 1E8)\n",
    "            #h.FillRandom(\"gaus\")\n",
    "            h.Draw()\n",
    "        else: \n",
    "            h.Draw('same')\n",
    "c1.Draw()\n",
    "\n",
    "c2 = r.TCanvas(\"c2\",\"c2\",400,400)\n",
    "c2.SetLogy()\n",
    "stack.Draw('nostack')\n",
    "c2.Draw()"
   ]
  },
  {
   "cell_type": "code",
   "execution_count": 55,
   "metadata": {},
   "outputs": [
    {
     "name": "stdout",
     "output_type": "stream",
     "text": [
      "h1_tpcLG_nPulses\n"
     ]
    },
    {
     "name": "stderr",
     "output_type": "stream",
     "text": [
      "TCanvas::Constructor:0: RuntimeWarning: Deleting canvas with same name: c2\n"
     ]
    },
    {
     "data": {
      "image/png": "[encoded data removed]",
      "text/plain": [
       "<IPython.core.display.Image object>"
      ]
     },
     "metadata": {},
     "output_type": "display_data"
    },
    {
     "name": "stdout",
     "output_type": "stream",
     "text": [
      "h1_tpcLG_chPulseArea\n"
     ]
    },
    {
     "data": {
      "image/png": "[encoded data removed]",
      "text/plain": [
       "<IPython.core.display.Image object>"
      ]
     },
     "metadata": {},
     "output_type": "display_data"
    },
    {
     "name": "stdout",
     "output_type": "stream",
     "text": [
      "h1_odLG_pulseStartTime\n"
     ]
    },
    {
     "data": {
      "image/png": "[encoded data removed]",
      "text/plain": [
       "<IPython.core.display.Image object>"
      ]
     },
     "metadata": {},
     "output_type": "display_data"
    },
    {
     "name": "stdout",
     "output_type": "stream",
     "text": [
      "h2_odHG_pulseArea_pulseLength\n"
     ]
    },
    {
     "data": {
      "image/png": "[encoded data removed]",
      "text/plain": [
       "<IPython.core.display.Image object>"
      ]
     },
     "metadata": {},
     "output_type": "display_data"
    }
   ],
   "source": [
    "\n",
    "for hname in histograms: \n",
    "    print(hname)\n",
    "    #c1 = r.TCanvas(\"c1\",\"c1\",400,400)\n",
    "    #c1.SetLogy()\n",
    "    stack=r.THStack()\n",
    "    for idx, f in enumerate(files):\n",
    "            h=get_histo(f, hname)    \n",
    "            h.GetYaxis().SetRangeUser(0.5, 1E8)\n",
    "            h.SetLineColor(idx+3)\n",
    "            h.SetMarkerColor(idx+3)\n",
    "            stack.Add(h)\n",
    "            #if idx==0: \n",
    "            #    h.Draw()\n",
    "            #else: \n",
    "            #    h.Draw('same')\n",
    "    #c1.Draw()\n",
    "    c2 = r.TCanvas(\"c2\",\"c2\",400,400)\n",
    "    c2.SetLogy()\n",
    "    stack.Draw('nostack')\n",
    "    c2.Draw()\n",
    "    del c2"
   ]
  },
  {
   "cell_type": "code",
   "execution_count": null,
   "metadata": {},
   "outputs": [],
   "source": []
  },
  {
   "cell_type": "code",
   "execution_count": null,
   "metadata": {},
   "outputs": [],
   "source": []
  },
  {
   "cell_type": "code",
   "execution_count": null,
   "metadata": {},
   "outputs": [],
   "source": []
  },
  {
   "cell_type": "code",
   "execution_count": null,
   "metadata": {},
   "outputs": [],
   "source": []
  }
 ],
 "metadata": {
  "kernelspec": {
   "display_name": "PyROOT",
   "language": "python",
   "name": "pyroot"
  },
  "language_info": {
   "codemirror_mode": {
    "name": "ipython",
    "version": 2
   },
   "file_extension": ".py",
   "mimetype": "text/x-python",
   "name": "python",
   "nbconvert_exporter": "python",
   "pygments_lexer": "ipython2",
   "version": "2.7.12"
  }
 },
 "nbformat": 4,
 "nbformat_minor": 2
}
