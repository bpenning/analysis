{
 "cells": [
  {
   "cell_type": "code",
   "execution_count": 1,
   "metadata": {},
   "outputs": [
    {
     "data": {
      "application/javascript": [
       "require(['codemirror/mode/clike/clike'], function(Clike) { console.log('ROOTaaS - C++ CodeMirror module loaded'); });"
      ]
     },
     "metadata": {},
     "output_type": "display_data"
    },
    {
     "data": {
      "application/javascript": [
       "IPython.CodeCell.config_defaults.highlight_modes['magic_text/x-c++src'] = {'reg':[/^%%cpp/]};"
      ]
     },
     "metadata": {},
     "output_type": "display_data"
    },
    {
     "name": "stdout",
     "output_type": "stream",
     "text": [
      "Welcome to ROOTaaS 6.06/06\n"
     ]
    }
   ],
   "source": [
    "import ROOT as r\n",
    "import copy\n",
    "r.gStyle.SetPalette(1)\n",
    "r.gStyle.SetOptStat(1)"
   ]
  },
  {
   "cell_type": "code",
   "execution_count": 7,
   "metadata": {},
   "outputs": [
    {
     "name": "stdout",
     "output_type": "stream",
     "text": [
      "******************************************************************************\n",
      "*Tree    :event     : event                                                  *\n",
      "*Entries :    50000 : Total =         6996019 bytes  File  Size =    2155288 *\n",
      "*        :          : Tree compression factor =   3.25                       *\n",
      "******************************************************************************\n",
      "*Br    0 :nSamples  : number_of_samples/I                                    *\n",
      "*Entries :    50000 : Total  Size=     201045 bytes  File Size  =       1762 *\n",
      "*Baskets :        7 : Basket Size=      32000 bytes  Compression= 113.81     *\n",
      "*............................................................................*\n",
      "*Br    1 :dLiveTime_s : livetime/D                                           *\n",
      "*Entries :    50000 : Total  Size=     401604 bytes  File Size  =     364824 *\n",
      "*Baskets :       13 : Basket Size=      32000 bytes  Compression=   1.10     *\n",
      "*............................................................................*\n",
      "*Br    2 :dEventRate_Hz : event_rate/D                                       *\n",
      "*Entries :    50000 : Total  Size=     401638 bytes  File Size  =     296082 *\n",
      "*Baskets :       13 : Basket Size=      32000 bytes  Compression=   1.35     *\n",
      "*............................................................................*\n",
      "*Br    3 :fCharge_pC : event_charge/F                                        *\n",
      "*Entries :    50000 : Total  Size=     201046 bytes  File Size  =      58362 *\n",
      "*Baskets :        7 : Basket Size=      32000 bytes  Compression=   3.44     *\n",
      "*............................................................................*\n",
      "*Br    4 :fChargePrompt_pC : event_charge_ten/F                              *\n",
      "*Entries :    50000 : Total  Size=     201106 bytes  File Size  =      51852 *\n",
      "*Baskets :        7 : Basket Size=      32000 bytes  Compression=   3.87     *\n",
      "*............................................................................*\n",
      "*Br    5 :fBaseline_V : event_baseline/F                                     *\n",
      "*Entries :    50000 : Total  Size=     201060 bytes  File Size  =      86436 *\n",
      "*Baskets :        7 : Basket Size=      32000 bytes  Compression=   2.32     *\n",
      "*............................................................................*\n",
      "*Br    6 :fBaselinerms_V : event_rms/F                                       *\n",
      "*Entries :    50000 : Total  Size=     201069 bytes  File Size  =     138042 *\n",
      "*Baskets :        7 : Basket Size=      32000 bytes  Compression=   1.45     *\n",
      "*............................................................................*\n",
      "*Br    7 :bIsGood   : isgood/O                                               *\n",
      "*Entries :    50000 : Total  Size=      50623 bytes  File Size  =       1445 *\n",
      "*Baskets :        2 : Basket Size=      32000 bytes  Compression=  34.71     *\n",
      "*............................................................................*\n",
      "*Br    8 :nPulses   : npulses/I                                              *\n",
      "*Entries :    50000 : Total  Size=     201007 bytes  File Size  =      20996 *\n",
      "*Baskets :        7 : Basket Size=      32000 bytes  Compression=   9.55     *\n",
      "*............................................................................*\n",
      "*Br    9 :fPulseHeight_V : amplitude[npulses]/F                              *\n",
      "*Entries :    50000 : Total  Size=     258264 bytes  File Size  =      77159 *\n",
      "*Baskets :       15 : Basket Size=      32000 bytes  Compression=   3.34     *\n",
      "*............................................................................*\n",
      "*Br   10 :fPulseRightEdge : pr[npulses]/F                                    *\n",
      "*Entries :    50000 : Total  Size=     258259 bytes  File Size  =      55681 *\n",
      "*Baskets :       15 : Basket Size=      32000 bytes  Compression=   4.63     *\n",
      "*............................................................................*\n",
      "*Br   11 :fPulseLeftEdge : pl[npulses]/F                                     *\n",
      "*Entries :    50000 : Total  Size=     258243 bytes  File Size  =      54378 *\n",
      "*Baskets :       15 : Basket Size=      32000 bytes  Compression=   4.74     *\n",
      "*............................................................................*\n",
      "*Br   12 :fPulseCharge_pC : charge_v[npulses]/F                              *\n",
      "*Entries :    50000 : Total  Size=     258277 bytes  File Size  =      78308 *\n",
      "*Baskets :       15 : Basket Size=      32000 bytes  Compression=   3.29     *\n",
      "*............................................................................*\n",
      "*Br   13 :fPulsePeakTime : amplitude_position[npulses]/F                     *\n",
      "*Entries :    50000 : Total  Size=     258291 bytes  File Size  =      54355 *\n",
      "*Baskets :       15 : Basket Size=      32000 bytes  Compression=   4.74     *\n",
      "*............................................................................*\n",
      "*Br   14 :fCalibratedTime : CalibratedTime[npulses]/F                        *\n",
      "*Entries :    50000 : Total  Size=     258295 bytes  File Size  =      54420 *\n",
      "*Baskets :       15 : Basket Size=      32000 bytes  Compression=   4.73     *\n",
      "*............................................................................*\n",
      "*Br   15 :fBigStep  : biggeststep[npulses]/F                                 *\n",
      "*Entries :    50000 : Total  Size=     258174 bytes  File Size  =      55999 *\n",
      "*Baskets :       15 : Basket Size=      32000 bytes  Compression=   4.60     *\n",
      "*............................................................................*\n",
      "*Br   16 :fPulseLength05 : pulse_length05[npulses]/F                         *\n",
      "*Entries :    50000 : Total  Size=     258279 bytes  File Size  =      33387 *\n",
      "*Baskets :       15 : Basket Size=      32000 bytes  Compression=   7.71     *\n",
      "*............................................................................*\n",
      "*Br   17 :fPulseLength1 : pulse_length1[npulses]/F                           *\n",
      "*Entries :    50000 : Total  Size=     258260 bytes  File Size  =      33359 *\n",
      "*Baskets :       15 : Basket Size=      32000 bytes  Compression=   7.72     *\n",
      "*............................................................................*\n",
      "*Br   18 :fPulseLength5 : pulse_length5[npulses]/F                           *\n",
      "*Entries :    50000 : Total  Size=     258260 bytes  File Size  =      47366 *\n",
      "*Baskets :       15 : Basket Size=      32000 bytes  Compression=   5.44     *\n",
      "*............................................................................*\n",
      "*Br   19 :fPulseLength25 : pulse_length25[npulses]/F                         *\n",
      "*Entries :    50000 : Total  Size=     258279 bytes  File Size  =      47395 *\n",
      "*Baskets :       15 : Basket Size=      32000 bytes  Compression=   5.43     *\n",
      "*............................................................................*\n",
      "*Br   20 :fPulseLength50 : pulse_length50[npulses]/F                         *\n",
      "*Entries :    50000 : Total  Size=     258279 bytes  File Size  =      44244 *\n",
      "*Baskets :       15 : Basket Size=      32000 bytes  Compression=   5.82     *\n",
      "*............................................................................*\n",
      "*Br   21 :fPulseLength75 : pulse_length75[npulses]/F                         *\n",
      "*Entries :    50000 : Total  Size=     258279 bytes  File Size  =      43993 *\n",
      "*Baskets :       15 : Basket Size=      32000 bytes  Compression=   5.85     *\n",
      "*............................................................................*\n",
      "*Br   22 :fPulseLength90 : pulse_length90[npulses]/F                         *\n",
      "*Entries :    50000 : Total  Size=     258279 bytes  File Size  =      46510 *\n",
      "*Baskets :       15 : Basket Size=      32000 bytes  Compression=   5.54     *\n",
      "*............................................................................*\n",
      "*Br   23 :fPulseLength95 : pulse_length95[npulses]/F                         *\n",
      "*Entries :    50000 : Total  Size=     258279 bytes  File Size  =      47830 *\n",
      "*Baskets :       15 : Basket Size=      32000 bytes  Compression=   5.38     *\n",
      "*............................................................................*\n",
      "*Br   24 :fPulseLength99 : pulse_length99[npulses]/F                         *\n",
      "*Entries :    50000 : Total  Size=     258279 bytes  File Size  =      49975 *\n",
      "*Baskets :       15 : Basket Size=      32000 bytes  Compression=   5.15     *\n",
      "*............................................................................*\n",
      "*Br   25 :fTriggerTime : triggerPosition/F                                   *\n",
      "*Entries :    50000 : Total  Size=     201071 bytes  File Size  =      28663 *\n",
      "*Baskets :        7 : Basket Size=      32000 bytes  Compression=   7.00     *\n",
      "*............................................................................*\n",
      "*Br   26 :fTriggerHeight_V : triggerHeight/F                                 *\n",
      "*Entries :    50000 : Total  Size=     201097 bytes  File Size  =     128429 *\n",
      "*Baskets :        7 : Basket Size=      32000 bytes  Compression=   1.56     *\n",
      "*............................................................................*\n",
      "*Br   27 :fTriggerWidth : triggerWidth/F                                     *\n",
      "*Entries :    50000 : Total  Size=     201070 bytes  File Size  =      10780 *\n",
      "*Baskets :        7 : Basket Size=      32000 bytes  Compression=  18.61     *\n",
      "*............................................................................*\n",
      "*Br   28 :fWindowCharge_pC : event_windowCharge/F                            *\n",
      "*Entries :    50000 : Total  Size=     201112 bytes  File Size  =     138062 *\n",
      "*Baskets :        7 : Basket Size=      32000 bytes  Compression=   1.45     *\n",
      "*............................................................................*\n"
     ]
    }
   ],
   "source": [
    "fgood=r.TFile('root_files/KA0193_190703_SPE.root')\n",
    "tgood=fgood.Get('event')\n",
    "\n",
    "fbad=r.TFile('root_files/KA0192_190708_SPE.root')\n",
    "tbad=fbad.Get('event')\n",
    "\n",
    "tgood.Print()"
   ]
  },
  {
   "cell_type": "code",
   "execution_count": 29,
   "metadata": {},
   "outputs": [],
   "source": [
    "#c1 = r.TCanvas()\n",
    "#f.event.Draw('event_charge')\n",
    "#c1.Draw()"
   ]
  },
  {
   "cell_type": "code",
   "execution_count": 30,
   "metadata": {},
   "outputs": [],
   "source": [
    "def getplot1D(t,branch, nbin, xmin, xlow):\n",
    "    h=r.TH1F(branch, \"\", nbin, xmin, xlow)\n",
    "    #mycode='h.Fill(len(t.'+branch+'))'\n",
    "    mycode='h.Fill(t.'+branch+')'\n",
    "    for event in t:\n",
    "        exec(mycode)\n",
    "    hr=copy.deepcopy(h)\n",
    "    hr.Scale(1/hr.Integral())\n",
    "    del h\n",
    "    return hr"
   ]
  },
  {
   "cell_type": "code",
   "execution_count": 31,
   "metadata": {},
   "outputs": [],
   "source": [
    "def printplot1D(branch, nbin, xmin, xlow):    \n",
    "    hg=getplot1D(tgood, branch, nbin, xmin, xlow)\n",
    "    hb=getplot1D(tbad, branch, nbin, xmin, xlow)\n",
    "    hb.SetLineColor(r.kRed)\n",
    "    hg.SetLineColor(r.kBlue)\n",
    "    c1=r.TCanvas()\n",
    "    c1.SetLogy()\n",
    "    hg.Draw()\n",
    "    hb.Draw('same')\n",
    "    c1.Draw()"
   ]
  },
  {
   "cell_type": "code",
   "execution_count": 40,
   "metadata": {},
   "outputs": [
    {
     "data": {
      "image/png": "[encoded data removed]",
      "text/plain": [
       "<IPython.core.display.Image object>"
      ]
     },
     "metadata": {},
     "output_type": "display_data"
    },
    {
     "data": {
      "image/png": "[encoded data removed]",
      "text/plain": [
       "<IPython.core.display.Image object>"
      ]
     },
     "metadata": {},
     "output_type": "display_data"
    },
    {
     "data": {
      "image/png": "[encoded data removed]",
      "text/plain": [
       "<IPython.core.display.Image object>"
      ]
     },
     "metadata": {},
     "output_type": "display_data"
    },
    {
     "data": {
      "image/png": "[encoded data removed]",
      "text/plain": [
       "<IPython.core.display.Image object>"
      ]
     },
     "metadata": {},
     "output_type": "display_data"
    }
   ],
   "source": [
    "printplot1D('event_charge', 30, 0., 6.)\n",
    "printplot1D('event_baseline', 100, 0., 0.001)\n",
    "printplot1D('event_rms', 100, 0., 0.001)\n",
    "#printplot1D('isgood', 100, 0., 0.001)\n",
    "printplot1D('npulses', 10, 0., 10.)"
   ]
  },
  {
   "cell_type": "code",
   "execution_count": null,
   "metadata": {},
   "outputs": [],
   "source": []
  },
  {
   "cell_type": "code",
   "execution_count": null,
   "metadata": {},
   "outputs": [],
   "source": []
  }
 ],
 "metadata": {
  "kernelspec": {
   "display_name": "PyROOT",
   "language": "python",
   "name": "pyroot"
  },
  "language_info": {
   "codemirror_mode": {
    "name": "ipython",
    "version": 2
   },
   "file_extension": ".py",
   "mimetype": "text/x-python",
   "name": "python",
   "nbconvert_exporter": "python",
   "pygments_lexer": "ipython2",
   "version": "2.7.12"
  }
 },
 "nbformat": 4,
 "nbformat_minor": 2
}
